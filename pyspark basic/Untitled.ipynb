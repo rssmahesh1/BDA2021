{
 "cells": [
  {
   "cell_type": "code",
   "execution_count": 1,
   "id": "2977535b",
   "metadata": {},
   "outputs": [
    {
     "name": "stdout",
     "output_type": "stream",
     "text": [
      "Requirement already satisfied: pyspark in c:\\programdata\\anaconda3\\lib\\site-packages (3.2.0)\n",
      "Requirement already satisfied: py4j==0.10.9.2 in c:\\programdata\\anaconda3\\lib\\site-packages (from pyspark) (0.10.9.2)\n"
     ]
    }
   ],
   "source": [
    "!pip install pyspark"
   ]
  },
  {
   "cell_type": "code",
   "execution_count": 2,
   "id": "ee6d9d7e",
   "metadata": {},
   "outputs": [],
   "source": [
    "import pyspark"
   ]
  },
  {
   "cell_type": "code",
   "execution_count": 3,
   "id": "675b0f19",
   "metadata": {},
   "outputs": [],
   "source": [
    "from pyspark.sql import SparkSession"
   ]
  },
  {
   "cell_type": "code",
   "execution_count": 4,
   "id": "095d2520",
   "metadata": {},
   "outputs": [],
   "source": [
    "spark=SparkSession.builder.appName('Dataframe').getOrCreate()"
   ]
  },
  {
   "cell_type": "code",
   "execution_count": 5,
   "id": "781fd724",
   "metadata": {},
   "outputs": [
    {
     "data": {
      "text/html": [
       "\n",
       "            <div>\n",
       "                <p><b>SparkSession - in-memory</b></p>\n",
       "                \n",
       "        <div>\n",
       "            <p><b>SparkContext</b></p>\n",
       "\n",
       "            <p><a href=\"http://faculty-Mahesh.imthyderabad.edu.in:4040\">Spark UI</a></p>\n",
       "\n",
       "            <dl>\n",
       "              <dt>Version</dt>\n",
       "                <dd><code>v3.0.3</code></dd>\n",
       "              <dt>Master</dt>\n",
       "                <dd><code>local[*]</code></dd>\n",
       "              <dt>AppName</dt>\n",
       "                <dd><code>Dataframe</code></dd>\n",
       "            </dl>\n",
       "        </div>\n",
       "        \n",
       "            </div>\n",
       "        "
      ],
      "text/plain": [
       "<pyspark.sql.session.SparkSession at 0x1ebc7132760>"
      ]
     },
     "execution_count": 5,
     "metadata": {},
     "output_type": "execute_result"
    }
   ],
   "source": [
    "spark"
   ]
  },
  {
   "cell_type": "code",
   "execution_count": 24,
   "id": "5e6e9ced",
   "metadata": {},
   "outputs": [],
   "source": [
    "# reading the data set\n",
    "df_pyspark=spark.read.option('header','true').csv('test1.csv',inferSchema=True)"
   ]
  },
  {
   "cell_type": "code",
   "execution_count": 10,
   "id": "828b2f62",
   "metadata": {},
   "outputs": [
    {
     "name": "stdout",
     "output_type": "stream",
     "text": [
      "root\n",
      " |-- Name: string (nullable = true)\n",
      " |-- age: integer (nullable = true)\n",
      " |-- Experience: integer (nullable = true)\n",
      " |-- Salary: integer (nullable = true)\n",
      "\n"
     ]
    }
   ],
   "source": [
    "df_pyspark.printSchema()"
   ]
  },
  {
   "cell_type": "code",
   "execution_count": 11,
   "id": "d49658f1",
   "metadata": {},
   "outputs": [
    {
     "name": "stdout",
     "output_type": "stream",
     "text": [
      "+-------+---+----------+------+\n",
      "|   Name|age|Experience|Salary|\n",
      "+-------+---+----------+------+\n",
      "| Mahesh| 31|        10| 30000|\n",
      "|   Raju| 30|         8| 25000|\n",
      "|  Pooja| 29|         4| 20000|\n",
      "|  Parul| 24|         3| 20000|\n",
      "|  Shiva| 21|         1| 15000|\n",
      "|Kshitij| 23|         2| 18000|\n",
      "+-------+---+----------+------+\n",
      "\n"
     ]
    }
   ],
   "source": [
    "df_pyspark.show()"
   ]
  },
  {
   "cell_type": "code",
   "execution_count": 12,
   "id": "b35f0b39",
   "metadata": {},
   "outputs": [
    {
     "data": {
      "text/plain": [
       "['Name', 'age', 'Experience', 'Salary']"
      ]
     },
     "execution_count": 12,
     "metadata": {},
     "output_type": "execute_result"
    }
   ],
   "source": [
    "#List the column\n",
    "df_pyspark.columns"
   ]
  },
  {
   "cell_type": "code",
   "execution_count": 13,
   "id": "8c53a5b1",
   "metadata": {},
   "outputs": [
    {
     "data": {
      "text/plain": [
       "pyspark.sql.dataframe.DataFrame"
      ]
     },
     "execution_count": 13,
     "metadata": {},
     "output_type": "execute_result"
    }
   ],
   "source": [
    "type(df_pyspark)"
   ]
  },
  {
   "cell_type": "code",
   "execution_count": 15,
   "id": "7e5964ab",
   "metadata": {},
   "outputs": [
    {
     "data": {
      "text/plain": [
       "[Row(Name='Mahesh', age=31, Experience=10, Salary=30000),\n",
       " Row(Name='Raju', age=30, Experience=8, Salary=25000),\n",
       " Row(Name='Pooja', age=29, Experience=4, Salary=20000)]"
      ]
     },
     "execution_count": 15,
     "metadata": {},
     "output_type": "execute_result"
    }
   ],
   "source": [
    "df_pyspark.head(3)"
   ]
  },
  {
   "cell_type": "code",
   "execution_count": 16,
   "id": "647a5963",
   "metadata": {},
   "outputs": [
    {
     "name": "stdout",
     "output_type": "stream",
     "text": [
      "+-------+---+----------+------+\n",
      "|   Name|age|Experience|Salary|\n",
      "+-------+---+----------+------+\n",
      "| Mahesh| 31|        10| 30000|\n",
      "|   Raju| 30|         8| 25000|\n",
      "|  Pooja| 29|         4| 20000|\n",
      "|  Parul| 24|         3| 20000|\n",
      "|  Shiva| 21|         1| 15000|\n",
      "|Kshitij| 23|         2| 18000|\n",
      "+-------+---+----------+------+\n",
      "\n"
     ]
    }
   ],
   "source": [
    "df_pyspark.show()"
   ]
  },
  {
   "cell_type": "code",
   "execution_count": 18,
   "id": "300cdc1c",
   "metadata": {},
   "outputs": [
    {
     "name": "stdout",
     "output_type": "stream",
     "text": [
      "+-------+---+------+\n",
      "|   Name|age|Salary|\n",
      "+-------+---+------+\n",
      "| Mahesh| 31| 30000|\n",
      "|   Raju| 30| 25000|\n",
      "|  Pooja| 29| 20000|\n",
      "|  Parul| 24| 20000|\n",
      "|  Shiva| 21| 15000|\n",
      "|Kshitij| 23| 18000|\n",
      "+-------+---+------+\n",
      "\n"
     ]
    }
   ],
   "source": [
    "df_pyspark.select(['Name','age','Salary']).show()"
   ]
  },
  {
   "cell_type": "code",
   "execution_count": 19,
   "id": "085effca",
   "metadata": {},
   "outputs": [
    {
     "data": {
      "text/plain": [
       "[('Name', 'string'), ('age', 'int'), ('Experience', 'int'), ('Salary', 'int')]"
      ]
     },
     "execution_count": 19,
     "metadata": {},
     "output_type": "execute_result"
    }
   ],
   "source": [
    "df_pyspark.dtypes"
   ]
  },
  {
   "cell_type": "code",
   "execution_count": 20,
   "id": "c084ee24",
   "metadata": {},
   "outputs": [
    {
     "name": "stdout",
     "output_type": "stream",
     "text": [
      "+-------+-------+------------------+-----------------+------------------+\n",
      "|summary|   Name|               age|       Experience|            Salary|\n",
      "+-------+-------+------------------+-----------------+------------------+\n",
      "|  count|      6|                 6|                6|                 6|\n",
      "|   mean|   null|26.333333333333332|4.666666666666667|21333.333333333332|\n",
      "| stddev|   null| 4.179314138308661|3.559026084010437| 5354.126134736337|\n",
      "|    min|Kshitij|                21|                1|             15000|\n",
      "|    max|  Shiva|                31|               10|             30000|\n",
      "+-------+-------+------------------+-----------------+------------------+\n",
      "\n"
     ]
    }
   ],
   "source": [
    "df_pyspark.describe().show()"
   ]
  },
  {
   "cell_type": "code",
   "execution_count": 21,
   "id": "fb45602d",
   "metadata": {},
   "outputs": [
    {
     "name": "stdout",
     "output_type": "stream",
     "text": [
      "+-------+----------+------+\n",
      "|   Name|Experience|Salary|\n",
      "+-------+----------+------+\n",
      "| Mahesh|        10| 30000|\n",
      "|   Raju|         8| 25000|\n",
      "|  Pooja|         4| 20000|\n",
      "|  Parul|         3| 20000|\n",
      "|  Shiva|         1| 15000|\n",
      "|Kshitij|         2| 18000|\n",
      "+-------+----------+------+\n",
      "\n"
     ]
    }
   ],
   "source": [
    "#Drop the column\n",
    "df_pyspark=df_pyspark.drop('age').show()"
   ]
  },
  {
   "cell_type": "markdown",
   "id": "5c2e15c6",
   "metadata": {},
   "source": [
    "# Adding nwe column"
   ]
  },
  {
   "cell_type": "code",
   "execution_count": 25,
   "id": "2545792d",
   "metadata": {},
   "outputs": [],
   "source": [
    "df_pyspark=df_pyspark.withColumn('New Salary',df_pyspark['Salary']+1000)"
   ]
  },
  {
   "cell_type": "code",
   "execution_count": 26,
   "id": "1b8637bc",
   "metadata": {},
   "outputs": [
    {
     "name": "stdout",
     "output_type": "stream",
     "text": [
      "+-------+---+----------+------+----------+\n",
      "|   Name|age|Experience|Salary|New Salary|\n",
      "+-------+---+----------+------+----------+\n",
      "| Mahesh| 31|        10| 30000|     31000|\n",
      "|   Raju| 30|         8| 25000|     26000|\n",
      "|  Pooja| 29|         4| 20000|     21000|\n",
      "|  Parul| 24|         3| 20000|     21000|\n",
      "|  Shiva| 21|         1| 15000|     16000|\n",
      "|Kshitij| 23|         2| 18000|     19000|\n",
      "+-------+---+----------+------+----------+\n",
      "\n"
     ]
    }
   ],
   "source": [
    "df_pyspark.show()"
   ]
  },
  {
   "cell_type": "code",
   "execution_count": 27,
   "id": "9a08fd43",
   "metadata": {},
   "outputs": [
    {
     "name": "stdout",
     "output_type": "stream",
     "text": [
      "+-------+---+-------------------+------+----------+\n",
      "|   Name|age|Employee Experience|Salary|New Salary|\n",
      "+-------+---+-------------------+------+----------+\n",
      "| Mahesh| 31|                 10| 30000|     31000|\n",
      "|   Raju| 30|                  8| 25000|     26000|\n",
      "|  Pooja| 29|                  4| 20000|     21000|\n",
      "|  Parul| 24|                  3| 20000|     21000|\n",
      "|  Shiva| 21|                  1| 15000|     16000|\n",
      "|Kshitij| 23|                  2| 18000|     19000|\n",
      "+-------+---+-------------------+------+----------+\n",
      "\n"
     ]
    }
   ],
   "source": [
    "# Renaming \n",
    "\n",
    "df_pyspark.withColumnRenamed('Experience','Employee Experience').show()"
   ]
  },
  {
   "cell_type": "code",
   "execution_count": 28,
   "id": "a48c854c",
   "metadata": {},
   "outputs": [],
   "source": [
    "df_pyspark=spark.read.csv('test2.csv',header=True,inferSchema=True)"
   ]
  },
  {
   "cell_type": "code",
   "execution_count": 31,
   "id": "b82c5f42",
   "metadata": {},
   "outputs": [
    {
     "name": "stdout",
     "output_type": "stream",
     "text": [
      "root\n",
      " |-- Name: string (nullable = true)\n",
      " |-- age: integer (nullable = true)\n",
      " |-- Experience: integer (nullable = true)\n",
      " |-- Salary: integer (nullable = true)\n",
      "\n"
     ]
    }
   ],
   "source": [
    "df_pyspark.printSchema()"
   ]
  },
  {
   "cell_type": "code",
   "execution_count": 29,
   "id": "092a8d6d",
   "metadata": {},
   "outputs": [
    {
     "name": "stdout",
     "output_type": "stream",
     "text": [
      "+-------+----+----------+------+\n",
      "|   Name| age|Experience|Salary|\n",
      "+-------+----+----------+------+\n",
      "| Mahesh|  31|        10| 30000|\n",
      "|   Raju|  30|         8| 25000|\n",
      "|  Pooja|  29|         4| 20000|\n",
      "|  Parul|  24|         3| 20000|\n",
      "|  Shiva|  21|         1| 15000|\n",
      "|Kshitij|  23|         2| 18000|\n",
      "|Sourabh|null|      null| 40000|\n",
      "|   null|  34|        10| 38000|\n",
      "|   null|  36|      null|  null|\n",
      "+-------+----+----------+------+\n",
      "\n"
     ]
    }
   ],
   "source": [
    "df_pyspark.show()"
   ]
  },
  {
   "cell_type": "code",
   "execution_count": 32,
   "id": "33520d37",
   "metadata": {},
   "outputs": [
    {
     "name": "stdout",
     "output_type": "stream",
     "text": [
      "+-------+---+----------+------+\n",
      "|   Name|age|Experience|Salary|\n",
      "+-------+---+----------+------+\n",
      "| Mahesh| 31|        10| 30000|\n",
      "|   Raju| 30|         8| 25000|\n",
      "|  Pooja| 29|         4| 20000|\n",
      "|  Parul| 24|         3| 20000|\n",
      "|  Shiva| 21|         1| 15000|\n",
      "|Kshitij| 23|         2| 18000|\n",
      "+-------+---+----------+------+\n",
      "\n"
     ]
    }
   ],
   "source": [
    "#Dropping Null values\n",
    "df_pyspark.na.drop().show()"
   ]
  },
  {
   "cell_type": "code",
   "execution_count": 40,
   "id": "daad2ebe",
   "metadata": {},
   "outputs": [
    {
     "name": "stdout",
     "output_type": "stream",
     "text": [
      "+-------+---+----------+------+\n",
      "|   Name|age|Experience|Salary|\n",
      "+-------+---+----------+------+\n",
      "| Mahesh| 31|        10| 30000|\n",
      "|   Raju| 30|         8| 25000|\n",
      "|  Pooja| 29|         4| 20000|\n",
      "|  Parul| 24|         3| 20000|\n",
      "|  Shiva| 21|         1| 15000|\n",
      "|Kshitij| 23|         2| 18000|\n",
      "|   null| 34|        10| 38000|\n",
      "+-------+---+----------+------+\n",
      "\n"
     ]
    }
   ],
   "source": [
    "### any==how\n",
    "df_pyspark.na.drop(how='any',thresh=3).show()"
   ]
  },
  {
   "cell_type": "code",
   "execution_count": 41,
   "id": "a839078c",
   "metadata": {},
   "outputs": [
    {
     "name": "stdout",
     "output_type": "stream",
     "text": [
      "+-------+---+----------+------+\n",
      "|   Name|age|Experience|Salary|\n",
      "+-------+---+----------+------+\n",
      "| Mahesh| 31|        10| 30000|\n",
      "|   Raju| 30|         8| 25000|\n",
      "|  Pooja| 29|         4| 20000|\n",
      "|  Parul| 24|         3| 20000|\n",
      "|  Shiva| 21|         1| 15000|\n",
      "|Kshitij| 23|         2| 18000|\n",
      "|   null| 34|        10| 38000|\n",
      "|   null| 36|      null|  null|\n",
      "+-------+---+----------+------+\n",
      "\n"
     ]
    }
   ],
   "source": [
    "##Subset\n",
    "df_pyspark.na.drop(how=\"any\",subset=['Age']).show()"
   ]
  },
  {
   "cell_type": "code",
   "execution_count": null,
   "id": "2f02ca4e",
   "metadata": {},
   "outputs": [],
   "source": []
  }
 ],
 "metadata": {
  "kernelspec": {
   "display_name": "Python 3",
   "language": "python",
   "name": "python3"
  },
  "language_info": {
   "codemirror_mode": {
    "name": "ipython",
    "version": 3
   },
   "file_extension": ".py",
   "mimetype": "text/x-python",
   "name": "python",
   "nbconvert_exporter": "python",
   "pygments_lexer": "ipython3",
   "version": "3.8.8"
  }
 },
 "nbformat": 4,
 "nbformat_minor": 5
}
